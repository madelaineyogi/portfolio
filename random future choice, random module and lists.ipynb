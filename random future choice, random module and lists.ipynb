{
 "cells": [
  {
   "cell_type": "code",
   "execution_count": 16,
   "metadata": {},
   "outputs": [
    {
     "name": "stdout",
     "output_type": "stream",
     "text": [
      "Hi, how u doin? Let' play somethin pretty fun. It's show time!\n",
      "\n",
      "Jessica Alba  and  Tom Crusie  will have...    a marriage !\n"
     ]
    }
   ],
   "source": [
    "#gra w której losowo wybrana przyszłość spotyka losowo dobranej pary\n",
    "\n",
    "import random\n",
    "\n",
    "print('Hi, how u doin? Let\\' play somethin pretty fun. It\\'s show time!\\n')\n",
    "\n",
    "women = ['Ariana Grande', 'Jessica Alba', 'Angelina Jolie', 'Natalie Portman', 'Taylor Swift']\n",
    "\n",
    "men = ['Brad Pitt', 'Ashton Kutcher', 'Ryan Gosling', 'Kuba Wojewódzki', 'Tom Crusie']\n",
    "\n",
    "future = [' a big love', ' a divorce', 'an affair', ' a marriage']\n",
    "\n",
    "woman = random.choice(women)\n",
    "man = random.choice(men)\n",
    "\n",
    "new_couple = print(woman, ' and ', man, ' will have...', ' ', random.choice(future), '!')"
   ]
  },
  {
   "cell_type": "code",
   "execution_count": null,
   "metadata": {},
   "outputs": [],
   "source": []
  }
 ],
 "metadata": {
  "kernelspec": {
   "display_name": "Python 3",
   "language": "python",
   "name": "python3"
  },
  "language_info": {
   "codemirror_mode": {
    "name": "ipython",
    "version": 3
   },
   "file_extension": ".py",
   "mimetype": "text/x-python",
   "name": "python",
   "nbconvert_exporter": "python",
   "pygments_lexer": "ipython3",
   "version": "3.7.6"
  }
 },
 "nbformat": 4,
 "nbformat_minor": 4
}
